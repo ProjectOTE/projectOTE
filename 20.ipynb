{
 "cells": [
  {
   "cell_type": "markdown",
   "id": "083f40da-a1de-49ab-9b8a-81d7ce84ff95",
   "metadata": {},
   "source": [
    "# DA Final project:\n",
    "\n",
    "# Group 20\n",
    "\n",
    "# IMDb 5000+ Movies & Multiple Genres Dataset\n",
    "\n",
    "## Name of students:\n",
    "Omri Gal Avraham<br>\n",
    "Tair Maimon<br>\n",
    "Eliran Haim Shimoni<br>\n",
    "\n",
    "\n",
    "\n",
    "\n",
    "\n",
    "\n",
    "<div>\n",
    "<img src=\"https://github.com/ProjectOTE/projectOTE/blob/main/photo.jpg?raw=true\" width=\"800\"/>\n",
    "</div>"
   ]
  },
  {
   "cell_type": "code",
   "execution_count": null,
   "id": "9f49e1d1-3c34-4b2c-a128-15349d0ea7eb",
   "metadata": {
    "tags": []
   },
   "outputs": [],
   "source": [
    "! pip install --quiet ipywidgets\n",
    "import ipywidgets as widgets\n",
    "import pandas as pd\n",
    "import seaborn as sns\n",
    "import matplotlib.pyplot as plt\n",
    "import numpy as np\n",
    "from sklearn.linear_model import LinearRegression\n",
    "from scipy.stats import pearsonr"
   ]
  },
  {
   "cell_type": "markdown",
   "id": "89995201-ebbb-4722-85bf-001038b23189",
   "metadata": {},
   "source": [
    "#### Informtion on the data\n",
    "The topic we have chosen in our project is the analysis of 5000 IMDb movie data between the years 1920 - 2022.<br>taken from [Kaggle](https://www.kaggle.com/datasets/rakkesharv/imdb-5000-movies-multiple-genres-dataset)\n",
    "\n",
    "#### About Dataset\n",
    "The IMDb 5000+ Movies & Multiple Genres Association is a collection of data that provides information on more than 5000 movies from around the world, including information such as year of production, directors, actors, ratings, movie lengths, profitability, and more.<br> The data also contains information on major genres and additional genres, allowing researchers, programmers and those interested in the field to analyze the film industry and determine trends, behavior patterns and audience feelings towards different films.<br>\n",
    " the data allows a complex and in-depth approach to the dynamics of the film industry, which allows users to better understand the various processes in which it is conducted and to determine forecasts, strategies, etc."
   ]
  },
  {
   "cell_type": "code",
   "execution_count": null,
   "id": "2dbc69d1-66e5-42ca-8e39-2d583f4aba1b",
   "metadata": {
    "tags": []
   },
   "outputs": [],
   "source": [
    "url = 'https://raw.githubusercontent.com/ProjectOTE/projectOTE/main/IMDb_All_Genres_etf_clean1.csv' \n",
    "movies_data = pd.read_csv(url)\n",
    "movies_data.shape"
   ]
  },
  {
   "cell_type": "code",
   "execution_count": null,
   "id": "cc93cc83-ad85-4e73-901b-4d51c1180d1d",
   "metadata": {
    "tags": []
   },
   "outputs": [],
   "source": [
    "movies_data.columns"
   ]
  },
  {
   "cell_type": "code",
   "execution_count": null,
   "id": "c31700a9-d693-4fa8-b1aa-24917548a578",
   "metadata": {
    "tags": []
   },
   "outputs": [],
   "source": [
    "movies_data.info()"
   ]
  },
  {
   "cell_type": "markdown",
   "id": "468fe1b9-937b-493a-a2a3-dad6441fa74a",
   "metadata": {},
   "source": [
    "- #### we see that in **'Total_Gross'** column  we have object type with float type so we need to clean the **'Total_Gross'** column that the only type will be just float for any calculations."
   ]
  },
  {
   "cell_type": "code",
   "execution_count": null,
   "id": "b0b94c45-fe24-4325-b30f-224a1f6ebe66",
   "metadata": {
    "tags": []
   },
   "outputs": [],
   "source": [
    "clean_movies_data = movies_data\n",
    "clean_movies_data['Total_Gross'] = pd.to_numeric(clean_movies_data['Total_Gross'].replace('[\\$,M]', '', regex=True), errors='coerce')"
   ]
  },
  {
   "cell_type": "code",
   "execution_count": null,
   "id": "585c8b88-1e85-411f-8949-a8687d938f5c",
   "metadata": {
    "tags": []
   },
   "outputs": [],
   "source": [
    "clean_movies_data.rename(columns={'Total_Gross': 'Total_Gross(M$)'}, inplace=True)\n"
   ]
  },
  {
   "cell_type": "markdown",
   "id": "d9eedc00-ef41-47bf-a2fc-e5cc2bb2b3d2",
   "metadata": {},
   "source": [
    "### Cheking if there is null value in each columclean_movies_dataour DF:"
   ]
  },
  {
   "cell_type": "code",
   "execution_count": null,
   "id": "c7445a68-68cc-4fc5-ad32-d0e762bf170c",
   "metadata": {
    "tags": []
   },
   "outputs": [],
   "source": [
    "clean_movies_data.isnull().sum()"
   ]
  },
  {
   "cell_type": "markdown",
   "id": "4b59a47e-f202-4102-b15a-45ccf696c635",
   "metadata": {},
   "source": [
    "- There is 861 null values rows."
   ]
  },
  {
   "cell_type": "code",
   "execution_count": null,
   "id": "3b9f784e-9d86-4eaf-aef8-1bbcd47f1142",
   "metadata": {
    "tags": []
   },
   "outputs": [],
   "source": [
    "clean_movies_data = clean_movies_data.dropna()\n",
    "clean_movies_data.isnull().sum()"
   ]
  },
  {
   "cell_type": "markdown",
   "id": "8a99e99e-c39c-4f6b-b720-888d76b1281e",
   "metadata": {},
   "source": [
    "- Now there are no null values in the DataFrame"
   ]
  },
  {
   "cell_type": "code",
   "execution_count": null,
   "id": "d5d0bcc6-06de-4573-be1f-fed7a7fee5ea",
   "metadata": {
    "tags": []
   },
   "outputs": [],
   "source": [
    "ordinal_mapping = {'UA': 13,'U': 0,'A': 18,'R': 18,'Not Rated': 18, 'PG': 7,'PG-13': 13,'U/A': 12,'7': 7,'16': 16,'18': 18,'13': 13, '12+': 12,'UA 16+': 16,'UA 13+': 13,'15+': 15,'All': 0,'Unrated': 18, 'G': 0,'UA 7+': 7,'M/PG': 7,'NC-17': 17}\n",
    "clean_movies_data['Censor_encoded'] = clean_movies_data['Censor'].map(ordinal_mapping)\n",
    "clean_movies_data = clean_movies_data[clean_movies_data['Censor']!=\"(Banned)\"]\n",
    "clean_movies_data.head(5)"
   ]
  },
  {
   "cell_type": "markdown",
   "id": "18bc44ea-df73-4ea7-a3aa-ae0fdaf8b955",
   "metadata": {},
   "source": [
    "### Description of the columns:\n",
    "- **Movie_Title** : Consist of 5000+ Movie Titles (5000+ Unique Values)\n",
    "- **Year** : Ranging from 1920s to 2022 (99 Unique Values)\n",
    "- **Director** : Names the Director (2000+ Unique Values)\n",
    "- **Actors** : Names the Actors (5000+ Unique & Multiple Values)\n",
    "- **Rating** : Titles rated for 10 by 25k+ Voters (74+ Unique Values)\n",
    "- **main_genre** : Main Genre of the Title (13+ Unique Values)\n",
    "- **side_genre** : Side / Multiple Genre of the Movie (144+ Unique & Multiple Values)\n",
    "- **Runtime(Mins)** : Total duration of the movie in Minutes (156+ Unique Values)\n",
    "- **Censor** : Censorship of the Movie (25+ Unique Values)\n",
    "- **Total_Gross** : Total Box-Office Collection of the Movie (3500+ Unique Values)\n",
    "- **Censor_encoded** : Censorship of the Movie by number of age\n"
   ]
  },
  {
   "cell_type": "markdown",
   "id": "d34da60c-5861-4557-a7eb-d1038f0a7fd4",
   "metadata": {
    "jp-MarkdownHeadingCollapsed": true,
    "tags": []
   },
   "source": [
    "<font size=\"7\" color=\"purple\">Analysis:</font>\n",
    "\n"
   ]
  },
  {
   "cell_type": "markdown",
   "id": "7d18cca8-6214-475e-b477-f4589b8da798",
   "metadata": {
    "tags": []
   },
   "source": [
    "\n",
    "<div>\n",
    "<img src=\"https://github.com/ProjectOTE/projectOTE/blob/main/children.jpg?raw=true \" width=\"600\"/>\n",
    "</div>"
   ]
  },
  {
   "cell_type": "markdown",
   "id": "08bb7fed-647f-4863-a298-fb45c4c5a9e5",
   "metadata": {
    "tags": []
   },
   "source": [
    "<font size=\"5\" color=\"blue\">age coded censorship over the years:</font>\n",
    "\n"
   ]
  },
  {
   "cell_type": "markdown",
   "id": "456114e7-a9b4-41ef-b4e7-e51caec645ed",
   "metadata": {},
   "source": [
    "#### The allowed viewing age between the years according to the crime genre."
   ]
  },
  {
   "cell_type": "code",
   "execution_count": null,
   "id": "c3e22321-ceb1-4bde-99ea-4c79d0e202b0",
   "metadata": {
    "tags": []
   },
   "outputs": [],
   "source": [
    "plt.figure(figsize=(18, 6))\n",
    "\n",
    "filtered_data = clean_movies_data[clean_movies_data['Censor_encoded'] != 0]\n",
    "df = filtered_data\n",
    "crime_data_1920_1950 = df[(df['Year'] >= 1920) & (df['Year'] <= 1950) & (df['main_genre'] == 'Crime')]\n",
    "crime_data_1951_1980 = df[(df['Year'] >= 1951) & (df['Year'] <= 1980) & (df['main_genre'] == 'Crime')]\n",
    "crime_data_1981_2022 = df[(df['Year'] >= 1981) & (df['Year'] <= 2022) & (df['main_genre'] == 'Crime')]\n",
    "\n",
    "plt.subplot(1, 3, 1)\n",
    "sns.scatterplot(data=crime_data_1920_1950[crime_data_1920_1950['Censor_encoded'] == 18],\n",
    "                x='Year', y='Censor_encoded', color='purple')\n",
    "sns.scatterplot(data=crime_data_1920_1950[crime_data_1920_1950['Censor_encoded'] > 18],\n",
    "                x='Year', y='Censor_encoded', color='red')\n",
    "plt.title(\"1920-1950\")\n",
    "plt.xlabel(\"Year\")\n",
    "plt.ylabel(\"Censor Age\")\n",
    "plt.xticks(ticks=range(1920, 1951, 2), rotation=45)\n",
    "plt.ylim(8, 20)\n",
    "\n",
    "\n",
    "\n",
    "plt.subplot(1, 3, 2)\n",
    "sns.scatterplot(data=crime_data_1951_1980[crime_data_1951_1980['Censor_encoded'] == 18],\n",
    "                x='Year', y='Censor_encoded', color='purple')\n",
    "sns.scatterplot(data=crime_data_1951_1980[crime_data_1951_1980['Censor_encoded'] < 18],\n",
    "                x='Year', y='Censor_encoded', color='red')\n",
    "plt.title(\"1951-1980\")\n",
    "plt.xlabel(\"Year\")\n",
    "plt.ylabel(\"Censor Age\")\n",
    "plt.xticks(ticks=range(1951, 1981, 2), rotation=45)\n",
    "plt.ylim(8, 20)\n",
    "\n",
    "\n",
    "\n",
    "plt.subplot(1, 3, 3)\n",
    "sns.scatterplot(data=crime_data_1981_2022[crime_data_1981_2022['Censor_encoded'] == 18],\n",
    "                x='Year', y='Censor_encoded', color='purple')\n",
    "sns.scatterplot(data=crime_data_1981_2022[crime_data_1981_2022['Censor_encoded'] < 18],\n",
    "                x='Year', y='Censor_encoded', color='red')\n",
    "plt.title(\"1981-2022\")\n",
    "plt.xlabel(\"Year\")\n",
    "plt.ylabel(\"Censor Age\")\n",
    "plt.xticks(ticks=range(1981, 2023, 2), rotation=45)\n",
    "plt.ylim(8, 20)\n",
    "\n",
    "\n",
    "\n",
    "\n",
    "plt.tight_layout()\n",
    "plt.show()"
   ]
  },
  {
   "cell_type": "markdown",
   "id": "dc75e11b-d274-4618-804f-836cf6126615",
   "metadata": {},
   "source": [
    "### The allowed viewing age between the years according to the Horror genre"
   ]
  },
  {
   "cell_type": "code",
   "execution_count": null,
   "id": "89135bfd-3798-44a2-abfe-bb52d61ee19b",
   "metadata": {
    "tags": []
   },
   "outputs": [],
   "source": [
    "plt.figure(figsize=(18, 6))\n",
    "\n",
    "filtered_data = clean_movies_data[clean_movies_data['Censor_encoded'] != 0]\n",
    "df = filtered_data\n",
    "horror_data_1951_1980 = df[(df['Year'] >= 1951) & (df['Year'] <= 1980) & (df['main_genre'] == 'Horror')]\n",
    "horror_data_1981_2022 = df[(df['Year'] >= 1981) & (df['Year'] <= 2022) & (df['main_genre'] == 'Horror')]\n",
    "\n",
    "\n",
    "plt.subplot(1, 2, 1)\n",
    "sns.scatterplot(data=horror_data_1951_1980[horror_data_1951_1980['Censor_encoded'] == 18],\n",
    "                x='Year', y='Censor_encoded', color='purple')\n",
    "sns.scatterplot(data=crime_data_1920_1950[crime_data_1920_1950['Censor_encoded'] < 18],\n",
    "                x='Year', y='Censor_encoded', color='red')\n",
    "plt.title(\"1951-1980\")\n",
    "plt.xlabel(\"Year\")\n",
    "plt.ylabel(\"Censor Age\")\n",
    "plt.xticks(ticks=range(1950, 1981, 2), rotation=45)\n",
    "plt.ylim(11, 20)\n",
    "\n",
    "\n",
    "\n",
    "plt.subplot(1, 2, 2)\n",
    "sns.scatterplot(data=horror_data_1981_2022[horror_data_1981_2022['Censor_encoded'] == 18],\n",
    "                x='Year', y='Censor_encoded', color='purple')\n",
    "sns.scatterplot(data=horror_data_1981_2022[horror_data_1981_2022['Censor_encoded'] < 18],\n",
    "                x='Year', y='Censor_encoded', color='red')\n",
    "plt.title(\"1981-2022\")\n",
    "plt.xlabel(\"Year\")\n",
    "plt.ylabel(\"Censor Age\")\n",
    "plt.xticks(ticks=range(1980, 2023, 2), rotation=45)\n",
    "plt.ylim(11, 20)\n",
    "\n",
    "\n",
    "\n",
    "plt.tight_layout()\n",
    "plt.show()\n"
   ]
  },
  {
   "cell_type": "markdown",
   "id": "4d7ae90e-5188-4ff5-9176-2c041b77b011",
   "metadata": {
    "tags": []
   },
   "source": [
    "<font size=\"7\" color=\"green\">Conclusion 1</font>\n",
    "\n",
    "\n"
   ]
  },
  {
   "cell_type": "markdown",
   "id": "b99844a9-7641-4bb4-aba0-9ab1e0c4414f",
   "metadata": {},
   "source": [
    "### The conclusion from the graphs is that as time goes by, there is a trend of expansion in the age groups in which it is possible to watch programs or content with lower ratings.  That is, it seems that the company or the publishing organization lowers the age limits at which it is permissible to view certain content due to the desire to reach a wider audience and increase the viewing and use of the content they publish or provide."
   ]
  },
  {
   "cell_type": "markdown",
   "id": "d892b7c2-d184-4df4-a27c-f0fb34e15748",
   "metadata": {
    "tags": []
   },
   "source": [
    "<font size=\"5\" color=\"blue\">The Correlation Between Movie Total Gross and Rating</font>\n",
    "\n",
    "\n"
   ]
  },
  {
   "cell_type": "code",
   "execution_count": null,
   "id": "6cd763f3-b9ed-42dd-9f5e-6e97621b1858",
   "metadata": {
    "tags": []
   },
   "outputs": [],
   "source": [
    "plt.figure(figsize=(10, 6))\n",
    "plt.scatter(clean_movies_data['Total_Gross(M$)'], clean_movies_data['Rating'])\n",
    "plt.xlabel('Total Gross (Millions)')\n",
    "plt.ylabel('Rating')\n",
    "plt.title('Relationship between Total Gross and Rating')\n",
    "plt.ylim(0,10)\n",
    "plt.grid(True)\n",
    "plt.show()"
   ]
  },
  {
   "cell_type": "code",
   "execution_count": null,
   "id": "d37aceac-aec5-4756-a7b0-c1abd6bd7d83",
   "metadata": {
    "tags": []
   },
   "outputs": [],
   "source": [
    "clean_movies_data.groupby(['Year'])[['Rating']].median()"
   ]
  },
  {
   "cell_type": "markdown",
   "id": "a8f4c1e8-928c-47d9-b90a-b1a023a272c3",
   "metadata": {
    "tags": []
   },
   "source": [
    "## Rating Classification\n",
    "\n",
    "<span style=\"color:blue\">High rating is above 6</span><br>\n",
    "<span style=\"color:orange\">Low rating is below 6</span>"
   ]
  },
  {
   "cell_type": "code",
   "execution_count": null,
   "id": "20940a1d-a4d8-4e7c-b6e5-4bc2016d9469",
   "metadata": {
    "tags": []
   },
   "outputs": [],
   "source": [
    "filtered_movies = clean_movies_data[(clean_movies_data['Rating'] > 6) & (clean_movies_data['Total_Gross(M$)'] >= 0) & (clean_movies_data['Total_Gross(M$)'] <= 200)]\n",
    "percentage = len(filtered_movies) / len(clean_movies_data) * 100\n",
    "labels = 'Matched Movies', 'Other Movies'\n",
    "sizes = [percentage, 100 - percentage]\n",
    "explode = (0.1, 0) \n",
    "fig1, ax1 = plt.subplots()\n",
    "ax1.pie(sizes, explode=explode, labels=labels,autopct='%1.1f%%',\n",
    "        shadow=True, startangle=90)\n",
    "ax1.axis('equal')  \n",
    "plt.show()"
   ]
  },
  {
   "cell_type": "markdown",
   "id": "6e2dd97c-acc7-4efa-ab8a-5b155ed38046",
   "metadata": {
    "jp-MarkdownHeadingCollapsed": true,
    "tags": []
   },
   "source": [
    "- #### We can see that 76.2 percent of the total films were rated above 6 which is considered \"high rating\".     but the film's revenue is less than 200 million\n"
   ]
  },
  {
   "cell_type": "markdown",
   "id": "d619cd9f-57ed-402e-977b-97b5a13444c3",
   "metadata": {},
   "source": [
    "<font size=\"7\" color=\"green\">Conclusion 2</font>\n",
    "\n",
    "\n",
    "\n"
   ]
  },
  {
   "cell_type": "markdown",
   "id": "853a7ec5-d5b9-4e6f-befe-e1a5cd254e56",
   "metadata": {
    "tags": []
   },
   "source": [
    "#### As we can see from the graph, there doesn't seem to be a direct correlation between a movie's total gross and its ratings. This suggests that there are movies with high earnings that did not receive good reviews, and vice versa - movies with low earnings that received good reviews.\n",
    "\n",
    "#### This conclusion may be interesting for several reasons. For example<bar>, movies with high earnings films that are quickly paced and sell many tickets, but do not necessarily receive high ratings from the public or critics."
   ]
  },
  {
   "cell_type": "markdown",
   "id": "0d9996f2-4e17-4a3e-bd44-300fc3c9282d",
   "metadata": {},
   "source": [
    "<font size=\"5\" color=\"blue\">Effect of time period on the most popular genre:</font>\n",
    "\n",
    "\n",
    "\n",
    "\n",
    "\n"
   ]
  },
  {
   "cell_type": "code",
   "execution_count": null,
   "id": "fbb03e7e-5353-4f05-b660-d51c7399ff9d",
   "metadata": {
    "tags": []
   },
   "outputs": [],
   "source": [
    "plt.figure(figsize=(15, 4))\n",
    "\n",
    "plt.subplot(131)\n",
    "plt.yscale('log')\n",
    "plt.bar(clean_movies_data[clean_movies_data['Year'] <= 1950]['main_genre'], clean_movies_data[clean_movies_data['Year'] <= 1950]['Total_Gross(M$)'], color='blue')\n",
    "plt.title('1920-1950')\n",
    "plt.xlabel('main_genre')\n",
    "plt.ylabel('Total_Gross(M$)')\n",
    "plt.xticks(rotation=45)\n",
    "\n",
    "\n",
    "plt.subplot(132)\n",
    "plt.bar(clean_movies_data[(clean_movies_data['Year'] > 1950) & (clean_movies_data['Year'] <= 1981)]['main_genre'], clean_movies_data[(clean_movies_data['Year'] > 1950) & (clean_movies_data['Year'] <= 1981)]['Rating'], color='green')\n",
    "plt.title('1950-1981')\n",
    "plt.xlabel('main_genre')\n",
    "plt.ylabel('Total_Gross(M$)')\n",
    "plt.xticks(rotation=45)\n",
    "\n",
    "\n",
    "plt.subplot(133)\n",
    "plt.bar(clean_movies_data[clean_movies_data['Year'] > 1981]['main_genre'], clean_movies_data[clean_movies_data['Year'] > 1981]['Total_Gross(M$)'], color='orange')\n",
    "plt.title('1981-2022')\n",
    "plt.xlabel('main_genre')\n",
    "plt.ylabel('Total_Gross(M$)')\n",
    "plt.xticks(rotation=45)\n",
    "\n",
    "plt.tight_layout()\n",
    "plt.show()"
   ]
  },
  {
   "cell_type": "markdown",
   "id": "09dbda9a-bbaa-473e-ba77-44d8b8270487",
   "metadata": {},
   "source": [
    "- #### We divided into 3 different periods and wanted to compare between each period which genre is the most popular in terms of profit."
   ]
  },
  {
   "cell_type": "code",
   "execution_count": null,
   "id": "833b4d1b-bfee-4e6f-b5b9-4abfbe692b1c",
   "metadata": {
    "tags": []
   },
   "outputs": [],
   "source": [
    "genre_counts= clean_movies_data['main_genre'].value_counts()\n",
    "palette = sns.color_palette(\"tab10\", len(genre_counts))\n",
    "\n",
    "genre_counts.plot(kind='bar', figsize=(12, 6), color=palette)\n",
    "\n",
    "plt.yscale('linear')\n",
    "\n",
    "plt.title('Total genre movies')\n",
    "plt.xlabel('Genre')\n",
    "plt.ylabel('Total Number of Movies')\n",
    "\n",
    "plt.xticks(rotation=45, ha='right')\n",
    "plt.tight_layout()\n",
    "plt.show()"
   ]
  },
  {
   "cell_type": "markdown",
   "id": "02ad4885-bd5e-4582-8ecb-250f4c581dd3",
   "metadata": {
    "tags": []
   },
   "source": [
    "- #### We can't understand the graph properly, that's why we made a log that will be more readable and understandable so that we can understand the numbers and the graph."
   ]
  },
  {
   "cell_type": "code",
   "execution_count": null,
   "id": "4cd5b7d6-03ca-4404-9f82-3b09d2103605",
   "metadata": {
    "tags": []
   },
   "outputs": [],
   "source": [
    "palette = sns.color_palette(\"tab10\", len(genre_counts))\n",
    "genre_counts.plot(kind='bar', figsize=(12, 6), color=palette)\n",
    "\n",
    "plt.yscale('linear')\n",
    "plt.yscale('log')\n",
    "plt.axhline(y=1350, color='r', linestyle='--', linewidth=2)\n",
    "plt.title('Total genre movies')\n",
    "plt.xlabel('Genre')\n",
    "plt.ylabel('Total Number of Movies')\n",
    "plt.xticks(rotation=45, ha='right')\n",
    "plt.tight_layout()\n",
    "plt.show()"
   ]
  },
  {
   "cell_type": "markdown",
   "id": "4ef14d38-d01a-424d-80ce-67befada5430",
   "metadata": {},
   "source": [
    "- #### We can see here after a summary of the graphs that the most popular genre is: Action!"
   ]
  },
  {
   "cell_type": "code",
   "execution_count": null,
   "id": "384284e4-9996-4a44-b025-55e9796ff0bf",
   "metadata": {
    "tags": []
   },
   "outputs": [],
   "source": [
    "main_genre_category = clean_movies_data.groupby(['main_genre'])[['Total_Gross(M$)']].count()\n",
    "main_genre_category"
   ]
  },
  {
   "cell_type": "markdown",
   "id": "641f8811-3e71-4ae6-9e9c-85556141b975",
   "metadata": {
    "tags": []
   },
   "source": [
    "- ### You knew! According to what we analyzed, the winning combination between the types of genres according to the ratings is -"
   ]
  },
  {
   "cell_type": "code",
   "execution_count": null,
   "id": "e1135b58-9e33-4476-96e8-6746be022832",
   "metadata": {
    "tags": []
   },
   "outputs": [],
   "source": [
    "\n",
    "genre_rating_sum = clean_movies_data.groupby(['main_genre', 'side_genre'])['Rating'].mean().reset_index()\n",
    "genre_rating_sum['Total_Rating'] = genre_rating_sum['Rating'].groupby(genre_rating_sum['main_genre']).transform('sum')\n",
    "sorted_genre_rating_sum = genre_rating_sum.sort_values(by='Total_Rating', ascending=False)\n",
    "sorted_genre_rating_sum.head()"
   ]
  },
  {
   "cell_type": "markdown",
   "id": "47aeb270-a9be-44c5-bfb3-bc154ff7da26",
   "metadata": {},
   "source": [
    "## Action!! \n"
   ]
  },
  {
   "cell_type": "markdown",
   "id": "89a112d9-ac04-44f1-8476-037bcef78d82",
   "metadata": {
    "tags": []
   },
   "source": [
    "<div>\n",
    "<img src=\"https://github.com/ProjectOTE/projectOTE/blob/main/rambo.jpg?raw=true\" width=\"600\"/>\n",
    "</div>"
   ]
  },
  {
   "cell_type": "code",
   "execution_count": null,
   "id": "86309220-44f2-41b0-85a1-5505cd9f47f3",
   "metadata": {
    "tags": []
   },
   "outputs": [],
   "source": [
    "question1A = widgets.Textarea( placeholder='Enter your answer', description='')\n",
    "question2 = widgets.Dropdown(options=['Action','Adventure','Animation','Biography','Comedy','Crime','Drama','Fantasy','Film-Noir','Horror','Mystery','Western'], description='')\n",
    "question3 = widgets.Dropdown(options=['Action','Adventure','Animation','Biography','Comedy','Crime','Drama','Fantasy','Film-Noir','Horror','Mystery','Western'], description='')\n",
    "\n",
    "display(widgets.Label('Enter your name')) \n",
    "display(question1A)\n",
    "display(widgets.Label('Question 1:what is your favoraite genre?'))\n",
    "display(question2)\n",
    "display(widgets.Label('Question 2: what do you think is the most popular genre?'))\n",
    "display(question3)"
   ]
  },
  {
   "cell_type": "markdown",
   "id": "1ca15e7a-d548-4f22-921d-36341934c88e",
   "metadata": {
    "tags": []
   },
   "source": [
    "<font size=\"7\" color=\"green\">Conclusion 3:</font>\n",
    "\n",
    "\n",
    "\n",
    "\n",
    "\n",
    "\n"
   ]
  },
  {
   "cell_type": "markdown",
   "id": "3792fdec-95fb-4b6b-8800-abada4b6bb38",
   "metadata": {},
   "source": [
    "#### It can be seen that by comparing different periods, trends are seen between the types of popular genres present for that period. There may have been some or other genres that were popular depending on the period, which also affected films of the same genre. <br> \"The spirit of the time changes what people like See\""
   ]
  },
  {
   "cell_type": "markdown",
   "id": "cc613fa4-813b-4e66-b4bf-5a6a584f06ee",
   "metadata": {},
   "source": [
    "<font size=\"5\" color=\"blue\">It's is the quantity , or the quality  ??:</font>\n",
    "\n",
    "\n",
    "\n",
    "\n",
    "\n",
    "\n"
   ]
  },
  {
   "cell_type": "markdown",
   "id": "38f8447d-db81-40f9-ba02-9b4a622b8bc9",
   "metadata": {},
   "source": [
    "<div>\n",
    "<img src=\"https://github.com/ProjectOTE/projectOTE/blob/main/qua.jpg?raw=true\" width=\"600\"/>\n",
    "</div>"
   ]
  },
  {
   "cell_type": "markdown",
   "id": "18555111-e00b-4d59-9b4f-5457cd3a9c5e",
   "metadata": {},
   "source": [
    "- #### The best director according to the rating and total gross"
   ]
  },
  {
   "cell_type": "code",
   "execution_count": null,
   "id": "f3ed2717-0994-423a-b8c8-37e70bbd1b71",
   "metadata": {
    "tags": []
   },
   "outputs": [],
   "source": [
    "df_Director = clean_movies_data.groupby(\"Director\")[\"Total_Gross(M$)\"].sum().sort_values(ascending = False).reset_index()\n",
    "plt.figure(figsize=(18,8))\n",
    "sns.barplot(y=df_Director[\"Director\"][:25],x=df_Director[\"Total_Gross(M$)\"][:25],palette=\"winter\")\n",
    "plt.xlabel(\"Sum of Gross\")\n",
    "plt.title(\"Top 25 Directors Gain Gross\")\n",
    "plt.tight_layout()"
   ]
  },
  {
   "cell_type": "code",
   "execution_count": null,
   "id": "c82c1db3-fc8e-431d-a4b5-ec43940ff9f4",
   "metadata": {
    "tags": []
   },
   "outputs": [],
   "source": [
    "df_Director = clean_movies_data.groupby(\"Movie_Title\")[\"Total_Gross(M$)\"].sum().sort_values(ascending = False).reset_index()\n",
    "plt.figure(figsize=(18,8))\n",
    "sns.barplot(y=df_Director[\"Movie_Title\"][:25],x=df_Director[\"Total_Gross(M$)\"][:25],palette=\"spring\")\n",
    "plt.xlabel(\"Total Gross (M$)\")\n",
    "plt.title(\"Top 25 Movies Gain Gross\")\n",
    "plt.tight_layout()"
   ]
  },
  {
   "cell_type": "code",
   "execution_count": null,
   "id": "2ee7c00f-199b-4cc3-aa8e-c9c19544ab9e",
   "metadata": {
    "tags": []
   },
   "outputs": [],
   "source": [
    "top_directors_movies = clean_movies_data.groupby('Director').agg({'Movie_Title': list, 'Total_Gross(M$)': 'sum'}).reset_index()\n",
    "\n",
    "top_directors_movies.columns = ['Director', 'Movie_Title', 'Total_Gross(M$)']\n",
    "top_directors_movies['Movies_Count'] = top_directors_movies['Movie_Title'].apply(len)\n",
    "top_directors_movies = top_directors_movies.sort_values(by='Total_Gross(M$)', ascending=False)\n",
    "top_directors_movies.reset_index(drop=True, inplace=True)  \n",
    "top_directors_movies.index += 1 \n",
    "top_directors_movies.head(25)"
   ]
  },
  {
   "cell_type": "code",
   "execution_count": null,
   "id": "aa473b68-455c-4903-866d-b9bffc74faa4",
   "metadata": {
    "tags": []
   },
   "outputs": [],
   "source": [
    "df_Director = clean_movies_data.groupby(\"Director\")[\"Total_Gross(M$)\"].sum().sort_values(ascending=False).reset_index()\n",
    "top_directors = df_Director[\"Director\"][:25]\n",
    "top_directors_data = clean_movies_data[clean_movies_data[\"Director\"].isin(top_directors)]\n",
    "director_total_gross = top_directors_data.groupby(\"Director\")[\"Total_Gross(M$)\"].sum().reset_index()\n",
    "director_total_gross_sorted = director_total_gross.sort_values(by='Total_Gross(M$)', ascending=False)\n",
    "director_total_gross_sorted.index = range(1, len(director_total_gross_sorted) + 1)\n",
    "director_total_gross_sorted "
   ]
  },
  {
   "cell_type": "code",
   "execution_count": null,
   "id": "daa1541f-08be-4dbb-8654-f733ee8d2b6e",
   "metadata": {
    "tags": []
   },
   "outputs": [],
   "source": [
    "plt.figure(figsize=(12, 8))\n",
    "plt.plot(director_total_gross_sorted['Director'],director_total_gross_sorted['Total_Gross(M$)'], marker='o', color='b', linewidth=2, markersize=8)\n",
    "plt.title('Total Gross for Top 25 Directors')\n",
    "plt.ylabel('Director')\n",
    "plt.xlabel('Total Gross (M$)')\n",
    "plt.xticks(rotation=75)\n",
    "plt.show()"
   ]
  },
  {
   "cell_type": "code",
   "execution_count": null,
   "id": "bf2f1610-8135-41c3-93d3-29768cf7e4d2",
   "metadata": {
    "tags": []
   },
   "outputs": [],
   "source": [
    "plt.figure(figsize=(12, 8))\n",
    "sns.barplot(x=top_directors_movies['Director'][:25], y=top_directors_movies['Movies_Count'][:25], palette='viridis')\n",
    "plt.title('Number of Movies per Top 25 Directors')\n",
    "plt.xlabel('Director')\n",
    "plt.ylabel('Number of Movies')\n",
    "plt.xticks(rotation=45)\n",
    "plt.tight_layout()\n",
    "plt.show()"
   ]
  },
  {
   "cell_type": "markdown",
   "id": "1810e752-9d4b-4025-add2-c716b719045c",
   "metadata": {
    "tags": []
   },
   "source": [
    "<font size=\"7\" color=\"green\">Conclusion 4</font>\n",
    "\n",
    "\n",
    "\n",
    "\n",
    "\n",
    "\n",
    "\n"
   ]
  },
  {
   "cell_type": "markdown",
   "id": "bdc1db5f-af2f-427b-84fa-765ae5a7c3cd",
   "metadata": {},
   "source": [
    "#### We checked whether there is necessarily a connection between the profits of the most successful directors and the amount of films they released.  Is a good director necessarily measured only by profit?  A good director is measured by the total profit in relation to the total amount of films he released, if he released few films but earns a total sum on them - we conclude that the films he released were of high quality.  <br>It's not the quantity is the quality!"
   ]
  },
  {
   "cell_type": "markdown",
   "id": "42b08995-e6ed-4a5f-b321-915a2e14cbc5",
   "metadata": {},
   "source": [
    "- #### During the work we used chat GPT."
   ]
  },
  {
   "cell_type": "code",
   "execution_count": null,
   "id": "4908f5cc-cf86-44d2-85ea-d8557cc82750",
   "metadata": {},
   "outputs": [],
   "source": []
  }
 ],
 "metadata": {
  "kernelspec": {
   "display_name": "Python 3 (ipykernel)",
   "language": "python",
   "name": "python3"
  },
  "language_info": {
   "codemirror_mode": {
    "name": "ipython",
    "version": 3
   },
   "file_extension": ".py",
   "mimetype": "text/x-python",
   "name": "python",
   "nbconvert_exporter": "python",
   "pygments_lexer": "ipython3",
   "version": "3.11.4"
  }
 },
 "nbformat": 4,
 "nbformat_minor": 5
}
